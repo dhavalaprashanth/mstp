{
 "cells": [
  {
   "cell_type": "code",
   "execution_count": null,
   "metadata": {},
   "outputs": [],
   "source": [
    "def div6not100(l,u):\n",
    "    for i in range(l,u+1):\n",
    "        if(i%6==0 and i%100!=0):\n",
    "            print(i,end=\" \")\n",
    "\n",
    "lb=int(input('enter lower boundry'))\n",
    "ub=int(input('enter upper boundry'))\n",
    "div6not100(lb,ub)"
   ]
  },
  {
   "cell_type": "code",
   "execution_count": null,
   "metadata": {},
   "outputs": [],
   "source": [
    "def avgcubeven(l,u):\n",
    "    a=0\n",
    "    c=0\n",
    "    for i in range(l,u+1):\n",
    "        if i%2==0:\n",
    "            a+=i**3\n",
    "            c+=1\n",
    "    return a/c\n",
    "            \n",
    "lb=int(input('enter lower boundry'))\n",
    "ub=int(input('enter upper boundry'))\n",
    "print(avgcubeven(lb,ub))"
   ]
  },
  {
   "cell_type": "code",
   "execution_count": null,
   "metadata": {},
   "outputs": [],
   "source": [
    "def factor(n):\n",
    "    for i in range(1,n+1):\n",
    "        if(n%i==0):\n",
    "            print(i)\n",
    "n=int(input('enter n value'))\n",
    "factor(n)"
   ]
  },
  {
   "cell_type": "code",
   "execution_count": null,
   "metadata": {},
   "outputs": [],
   "source": [
    "def factorial(n):\n",
    "    i=1\n",
    "    x=1\n",
    "    while i<=n:\n",
    "        x*=i\n",
    "        i+=1\n",
    "    return x\n",
    "n=int(input('enter a number'))\n",
    "\n",
    "print('the factiorial of ',n,\"is  \",factorial(n))"
   ]
  },
  {
   "cell_type": "code",
   "execution_count": null,
   "metadata": {},
   "outputs": [],
   "source": [
    "def prime(i):\n",
    "    flag=0\n",
    "    for j in range(2,int(i**(1/2))+1):\n",
    "        if(i%j==0):\n",
    "            flag+=1\n",
    "    if(flag==0):\n",
    "        print(i,\"is a prime\")  \n",
    "    else:\n",
    "        print(i,\" is not a prime\")\n",
    "\n",
    "n=int(input(\"enter a number\"))\n",
    "prime(n)"
   ]
  },
  {
   "cell_type": "code",
   "execution_count": null,
   "metadata": {},
   "outputs": [],
   "source": [
    "def avgfirstnprime(n):\n",
    "    i=1\n",
    "    x=2\n",
    "    s=0\n",
    "    flag=0\n",
    "    while i<=n:\n",
    "        for j in range(2,x):\n",
    "            if(x%j==0):\n",
    "                flag+=1\n",
    "        if(flag==0):\n",
    "            i+=1\n",
    "            s+=x\n",
    "            x+=1\n",
    "        else:\n",
    "            x=x+1\n",
    "            flag=0\n",
    "    return s/n\n",
    "n=int(input('enter a number'))\n",
    "print(avgfirstnprime(n))"
   ]
  },
  {
   "cell_type": "code",
   "execution_count": null,
   "metadata": {},
   "outputs": [],
   "source": [
    "def perfectnuminreange(l,u):\n",
    "    s=0\n",
    "    for i in range(l,u+1):\n",
    "        for j in range(1,i):\n",
    "            if(i%j==0):\n",
    "                s+=j\n",
    "        if(s==i):\n",
    "            print(i)\n",
    "        s=0\n",
    "lb=int(input('enter lower boundry'))\n",
    "ub=int(input('enter upper boundry'))\n",
    "perfectnuminreange(lb,ub)"
   ]
  }
 ],
 "metadata": {
  "kernelspec": {
   "display_name": "Python 3",
   "language": "python",
   "name": "python3"
  },
  "language_info": {
   "codemirror_mode": {
    "name": "ipython",
    "version": 3
   },
   "file_extension": ".py",
   "mimetype": "text/x-python",
   "name": "python",
   "nbconvert_exporter": "python",
   "pygments_lexer": "ipython3",
   "version": "3.7.3"
  }
 },
 "nbformat": 4,
 "nbformat_minor": 2
}
