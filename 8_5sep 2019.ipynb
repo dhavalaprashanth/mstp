{
 "cells": [
  {
   "cell_type": "code",
   "execution_count": 1,
   "metadata": {},
   "outputs": [
    {
     "name": "stdout",
     "output_type": "stream",
     "text": [
      "Line 1\n",
      "Line 2\n",
      "Line 3\n",
      "Line 4\n"
     ]
    }
   ],
   "source": [
    "fh=open('book.txt','r')  #### printing the data in existing file\n",
    "data=fh.read()\n",
    "print(data)\n",
    "fh.close()"
   ]
  },
  {
   "cell_type": "code",
   "execution_count": 3,
   "metadata": {},
   "outputs": [],
   "source": [
    "fh=open(\"notes.txt\",\"w\")      ##create new file and enter text\n",
    "fh.write(\"how are you\")\n",
    "fh.close()"
   ]
  },
  {
   "cell_type": "code",
   "execution_count": 6,
   "metadata": {},
   "outputs": [],
   "source": [
    "fh=open(\"book.txt\",\"r\")   ##copying cntent from 1 file to another\n",
    "fh1=open(\"notes.txt\",\"w\")\n",
    "for line in fh:\n",
    "    fh1.write(line)\n",
    "fh.close()\n",
    "fh1.close()"
   ]
  },
  {
   "cell_type": "code",
   "execution_count": 8,
   "metadata": {},
   "outputs": [],
   "source": [
    "fh=open(\"notes.txt\",\"a\")\n",
    "\n",
    "fh.write('  new Line')\n",
    "\n",
    "fh.close()"
   ]
  },
  {
   "cell_type": "code",
   "execution_count": 9,
   "metadata": {},
   "outputs": [
    {
     "name": "stdout",
     "output_type": "stream",
     "text": [
      "Line 1\n",
      "\n",
      "Line 2\n",
      "\n",
      "Line 3\n",
      "\n",
      "Line 4\n"
     ]
    }
   ],
   "source": [
    "fh=open('book.txt','r')\n",
    "for Line in fh:\n",
    "    print(Line)\n",
    "fh.close()"
   ]
  },
  {
   "cell_type": "code",
   "execution_count": 11,
   "metadata": {},
   "outputs": [
    {
     "name": "stdout",
     "output_type": "stream",
     "text": [
      "4\n"
     ]
    }
   ],
   "source": [
    "fh=open(\"book.txt\",\"r\")\n",
    "count=0\n",
    "for Line in fh:\n",
    "    count+=1\n",
    "print(count)\n",
    "fh.close()"
   ]
  },
  {
   "cell_type": "code",
   "execution_count": 30,
   "metadata": {},
   "outputs": [
    {
     "name": "stdout",
     "output_type": "stream",
     "text": [
      "Line 3\n",
      "\n"
     ]
    }
   ],
   "source": [
    "fh=open(\"book.txt\",\"r\")\n",
    "line=fh.readlines()\n",
    "print(line[2])\n",
    "fh.close()"
   ]
  },
  {
   "cell_type": "code",
   "execution_count": 55,
   "metadata": {},
   "outputs": [
    {
     "name": "stdout",
     "output_type": "stream",
     "text": [
      "e\n"
     ]
    }
   ],
   "source": [
    "fh=open(\"book.txt\",\"r\")\n",
    "print(Line[3])\n",
    "fh.close()"
   ]
  },
  {
   "cell_type": "code",
   "execution_count": 44,
   "metadata": {},
   "outputs": [
    {
     "name": "stdout",
     "output_type": "stream",
     "text": [
      "27\n"
     ]
    }
   ],
   "source": [
    "fh=open(\"book.txt\",\"r\")\n",
    "characters = 0\n",
    "for line in fh:\n",
    "    characters = characters + len(line)\n",
    "print(characters)"
   ]
  },
  {
   "cell_type": "code",
   "execution_count": 52,
   "metadata": {},
   "outputs": [
    {
     "name": "stdout",
     "output_type": "stream",
     "text": [
      "1\n"
     ]
    }
   ],
   "source": [
    "fh=open(\"book.txt\",\"r\")\n",
    "word='L'\n",
    "k = 0\n",
    "char=0\n",
    "for line in fh:\n",
    "    char=char+len(line)\n",
    "if(i==word):\n",
    "    k=k+1\n",
    "print(k)"
   ]
  },
  {
   "cell_type": "code",
   "execution_count": 56,
   "metadata": {},
   "outputs": [
    {
     "name": "stdout",
     "output_type": "stream",
     "text": [
      "8\n"
     ]
    }
   ],
   "source": [
    "fh=open(\"book.txt\",\"r\")\n",
    "words = 0\n",
    "for line in fh:\n",
    "    wordslist=line.split()\n",
    "    words=words+len(wordslist)\n",
    "print(words)"
   ]
  },
  {
   "cell_type": "code",
   "execution_count": 68,
   "metadata": {},
   "outputs": [],
   "source": [
    "def replaceWord(fileName,oldWord,newWord):\n",
    "    fh=open(fileName,\"r\")\n",
    "    data=fh.read()\n",
    "    data=data.replace(oldWord,newWord)\n",
    "    fh.close()\n",
    "    fh=open(fileName,\"w\")\n",
    "    fh.write(data)\n",
    "    fh.close()\n",
    "    "
   ]
  },
  {
   "cell_type": "code",
   "execution_count": 70,
   "metadata": {},
   "outputs": [],
   "source": [
    "replaceWord(\"book.txt\",\"line\",\"row\")"
   ]
  },
  {
   "cell_type": "code",
   "execution_count": 83,
   "metadata": {},
   "outputs": [],
   "source": [
    "fh=open(\"book.txt\",\"r+\")\n",
    "fh.write('prashanth')\n",
    "fh.close()"
   ]
  },
  {
   "cell_type": "code",
   "execution_count": 74,
   "metadata": {
    "scrolled": true
   },
   "outputs": [
    {
     "name": "stdout",
     "output_type": "stream",
     "text": [
      "24\n",
      "5\n",
      "\n",
      "row 2 \n",
      "row 3\n",
      "row 4\n"
     ]
    }
   ],
   "source": [
    "fh=open(\"book.txt\",\"r\")\n",
    "data=fh.read()\n",
    "print(fh.tell())\n",
    "fh.seek(5)\n",
    "print(fh.tell())\n",
    "data=fh.read()\n",
    "print(data)\n",
    "fh.close()"
   ]
  },
  {
   "cell_type": "code",
   "execution_count": 75,
   "metadata": {},
   "outputs": [
    {
     "name": "stdout",
     "output_type": "stream",
     "text": [
      "\n"
     ]
    }
   ],
   "source": [
    "fh=open(\"book.txt\",\"w+\")\n",
    "print(fh.read())\n",
    "\n",
    "fh.close()"
   ]
  },
  {
   "cell_type": "code",
   "execution_count": 80,
   "metadata": {
    "scrolled": true
   },
   "outputs": [
    {
     "name": "stdout",
     "output_type": "stream",
     "text": [
      "['Line 2\\n', 'Line 3\\n', 'Line 4']\n"
     ]
    }
   ],
   "source": [
    "fh=open(\"book.txt\",\"r\")\n",
    "data=fh.readline()\n",
    "\n",
    "data=fh.readlines()\n",
    "\n",
    "print(data)\n",
    "\n",
    "fh.close()"
   ]
  },
  {
   "cell_type": "code",
   "execution_count": 90,
   "metadata": {},
   "outputs": [],
   "source": [
    "fh = open('book.txt','r')\n",
    "fh1 = open('output.txt','w')\n",
    "fh1.write(\"rno      name     english     math      total \\n\")\n",
    "count = 0\n",
    "for line in fh:\n",
    "    if count>=1:\n",
    "        k=line.split()\n",
    "        m=int(k[2])\n",
    "        n=int(k[3])\n",
    "        fh1.write(k[0]+\"         \"+k[1]+ \"        \"+k[2]+\"         \"+k[3]+\"        \"+(str(m+n))+\"\\n \")\n",
    "    count+=1\n",
    "fh.close()\n",
    "fh1.close()\n"
   ]
  },
  {
   "cell_type": "code",
   "execution_count": null,
   "metadata": {},
   "outputs": [],
   "source": []
  }
 ],
 "metadata": {
  "kernelspec": {
   "display_name": "Python 3",
   "language": "python",
   "name": "python3"
  },
  "language_info": {
   "codemirror_mode": {
    "name": "ipython",
    "version": 3
   },
   "file_extension": ".py",
   "mimetype": "text/x-python",
   "name": "python",
   "nbconvert_exporter": "python",
   "pygments_lexer": "ipython3",
   "version": "3.7.3"
  }
 },
 "nbformat": 4,
 "nbformat_minor": 2
}
